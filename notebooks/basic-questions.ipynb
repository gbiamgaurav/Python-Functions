{
 "cells": [
  {
   "cell_type": "markdown",
   "id": "7cd6403c-d60c-4bea-a09a-9ec410214b51",
   "metadata": {},
   "source": [
    "# Swap 2 variables"
   ]
  },
  {
   "cell_type": "code",
   "execution_count": 1,
   "id": "1c14ab30-52df-4137-8f2b-535119f2b18a",
   "metadata": {},
   "outputs": [],
   "source": [
    "def swap_two_variables(a, b):\n",
    "    return b, a"
   ]
  },
  {
   "cell_type": "code",
   "execution_count": 2,
   "id": "90698d9b-3541-4bbd-ae1f-a7b7560b08f3",
   "metadata": {},
   "outputs": [
    {
     "data": {
      "text/plain": [
       "(3, 2)"
      ]
     },
     "execution_count": 2,
     "metadata": {},
     "output_type": "execute_result"
    }
   ],
   "source": [
    "swap_two_variables(2, 3)"
   ]
  },
  {
   "cell_type": "code",
   "execution_count": 3,
   "id": "bbcab604-b14a-4714-b30a-f0cd0f71a044",
   "metadata": {},
   "outputs": [
    {
     "data": {
      "text/plain": [
       "(2, 3)"
      ]
     },
     "execution_count": 3,
     "metadata": {},
     "output_type": "execute_result"
    }
   ],
   "source": [
    "swap_two_variables(3, 2)"
   ]
  },
  {
   "cell_type": "markdown",
   "id": "8f73447e-651c-45ba-aaaa-d0d8db7dd6b6",
   "metadata": {},
   "source": [
    "# Convert Kilometers to Miles"
   ]
  },
  {
   "cell_type": "code",
   "execution_count": 4,
   "id": "b96eaf96-a772-40e2-8534-0a195855eb1c",
   "metadata": {},
   "outputs": [],
   "source": [
    "def convert_kilo_miles(kms):\n",
    "    print(f\"The Miles are: {kms*0.621371}\")"
   ]
  },
  {
   "cell_type": "code",
   "execution_count": 5,
   "id": "8c8301bf-e4d0-49d6-b78c-caf68ef60785",
   "metadata": {},
   "outputs": [
    {
     "name": "stdout",
     "output_type": "stream",
     "text": [
      "The Miles are: 15.534275000000001\n"
     ]
    }
   ],
   "source": [
    "convert_kilo_miles(25)"
   ]
  },
  {
   "cell_type": "markdown",
   "id": "6edc7208-1add-4e00-93e6-751089372f3c",
   "metadata": {},
   "source": [
    "# Is Number Positive Negative or Zero"
   ]
  },
  {
   "cell_type": "code",
   "execution_count": 8,
   "id": "1f4e47df-e4ef-4489-828a-cb1fb6ea85ea",
   "metadata": {},
   "outputs": [],
   "source": [
    "def check_number(num):\n",
    "    if num == 0:\n",
    "        print(\"Number is Zero\")\n",
    "    elif num > 1:\n",
    "        print(\"Number is Positive\")\n",
    "    else:\n",
    "        print(\"Number is Negative\")"
   ]
  },
  {
   "cell_type": "code",
   "execution_count": 9,
   "id": "17b62848-5bca-4635-b3ea-cbf25b949f2c",
   "metadata": {},
   "outputs": [
    {
     "name": "stdout",
     "output_type": "stream",
     "text": [
      "Number is Negative\n"
     ]
    }
   ],
   "source": [
    "check_number(-25)"
   ]
  },
  {
   "cell_type": "code",
   "execution_count": 10,
   "id": "68788260-e721-4fcf-9cac-4763138c8d02",
   "metadata": {},
   "outputs": [
    {
     "name": "stdout",
     "output_type": "stream",
     "text": [
      "Number is Positive\n"
     ]
    }
   ],
   "source": [
    "check_number(87)"
   ]
  },
  {
   "cell_type": "code",
   "execution_count": 11,
   "id": "a339f389-9303-4268-868e-95739eaf905a",
   "metadata": {},
   "outputs": [
    {
     "name": "stdout",
     "output_type": "stream",
     "text": [
      "Number is Zero\n"
     ]
    }
   ],
   "source": [
    "check_number(0)"
   ]
  },
  {
   "cell_type": "markdown",
   "id": "50596906-fd78-4233-8412-6fa06b252b06",
   "metadata": {},
   "source": [
    "# Is a Number Odd or Even"
   ]
  },
  {
   "cell_type": "code",
   "execution_count": 12,
   "id": "60b6033f-9ee9-4560-8540-9300daa5ac48",
   "metadata": {},
   "outputs": [],
   "source": [
    "def check_odd_or_even(num):\n",
    "    if num % 2 == 0:\n",
    "        print(f\"{num} is Even\")\n",
    "    else:\n",
    "        print(f\"{num} is Odd\")"
   ]
  },
  {
   "cell_type": "code",
   "execution_count": 13,
   "id": "28fca02b-a462-4948-8d88-7238fa62b34a",
   "metadata": {},
   "outputs": [
    {
     "name": "stdout",
     "output_type": "stream",
     "text": [
      "12 is Even\n"
     ]
    }
   ],
   "source": [
    "check_odd_or_even(12)"
   ]
  },
  {
   "cell_type": "code",
   "execution_count": 14,
   "id": "a366a660-a35f-4219-a741-e12830698c7b",
   "metadata": {},
   "outputs": [
    {
     "name": "stdout",
     "output_type": "stream",
     "text": [
      "83 is Odd\n"
     ]
    }
   ],
   "source": [
    "check_odd_or_even(83)"
   ]
  },
  {
   "cell_type": "markdown",
   "id": "28b73525-34c8-49ff-9868-402763f0384d",
   "metadata": {},
   "source": [
    "# Check Year is a Leap Year"
   ]
  },
  {
   "cell_type": "code",
   "execution_count": 15,
   "id": "7cf7a73e-d474-4614-baeb-7fb7b8fc3ca4",
   "metadata": {},
   "outputs": [],
   "source": [
    "def check_leap_year(year):\n",
    "    if (year % 400 == 0) and (year % 100 ==0):\n",
    "        print(f\"{year}, is a leap year\")\n",
    "    elif (year % 4 == 0) and (year % 100 != 0):\n",
    "        print(f\"{year} is a leap year\")\n",
    "    else:\n",
    "        print(f\"{year} is not a leap year\")"
   ]
  },
  {
   "cell_type": "code",
   "execution_count": 16,
   "id": "2c8a263b-0af3-4957-9667-c7798510f2a3",
   "metadata": {},
   "outputs": [
    {
     "name": "stdout",
     "output_type": "stream",
     "text": [
      "2020 is a leap year\n"
     ]
    }
   ],
   "source": [
    "check_leap_year(2020)"
   ]
  },
  {
   "cell_type": "code",
   "execution_count": 17,
   "id": "9a073368-668a-474f-a7e4-f840216bfb29",
   "metadata": {},
   "outputs": [
    {
     "name": "stdout",
     "output_type": "stream",
     "text": [
      "1999 is not a leap year\n"
     ]
    }
   ],
   "source": [
    "check_leap_year(1999)"
   ]
  },
  {
   "cell_type": "markdown",
   "id": "e1cef3ed-2d03-456e-967a-93af87f228fa",
   "metadata": {},
   "source": [
    "# Largest Among 3 Numbers"
   ]
  },
  {
   "cell_type": "code",
   "execution_count": 19,
   "id": "b1c2cfc2-259f-452d-b04b-cd95e6230666",
   "metadata": {},
   "outputs": [],
   "source": [
    "def largest_among_numbers(num_lst):\n",
    "    return max(num_lst)"
   ]
  },
  {
   "cell_type": "code",
   "execution_count": 21,
   "id": "e66d9056-1604-4ce9-9e0b-e1f06996d1df",
   "metadata": {},
   "outputs": [
    {
     "data": {
      "text/plain": [
       "7"
      ]
     },
     "execution_count": 21,
     "metadata": {},
     "output_type": "execute_result"
    }
   ],
   "source": [
    "largest_among_numbers([4, 7, 1])"
   ]
  },
  {
   "cell_type": "markdown",
   "id": "9474b995-e300-4a44-b559-10ce19a25749",
   "metadata": {},
   "source": [
    "# Check Prime Number"
   ]
  },
  {
   "cell_type": "code",
   "execution_count": 25,
   "id": "7740b554-9794-4b6f-a1e7-4ca9fe0a43b0",
   "metadata": {},
   "outputs": [],
   "source": [
    "def check_prime_number(num):\n",
    "    if num == 1:\n",
    "        print(\"Its not a prime number\")\n",
    "    if num > 1:\n",
    "        for i in range(2, num):\n",
    "            if num % i == 0:\n",
    "                print(\"Its not a prime number\")\n",
    "                break\n",
    "        else:\n",
    "            print(\"Its a prime number\")"
   ]
  },
  {
   "cell_type": "code",
   "execution_count": 26,
   "id": "bcb14b8e-1ab0-4393-85f1-825dacba2bd6",
   "metadata": {},
   "outputs": [
    {
     "name": "stdout",
     "output_type": "stream",
     "text": [
      "Its a prime number\n"
     ]
    }
   ],
   "source": [
    "check_prime_number(11)"
   ]
  },
  {
   "cell_type": "code",
   "execution_count": 27,
   "id": "7ba4f533-27d1-46c7-9dec-871a176ff912",
   "metadata": {},
   "outputs": [
    {
     "name": "stdout",
     "output_type": "stream",
     "text": [
      "Its not a prime number\n"
     ]
    }
   ],
   "source": [
    "check_prime_number(8)"
   ]
  },
  {
   "cell_type": "markdown",
   "id": "0913a093-e67f-438f-b61e-6a2a9329650a",
   "metadata": {},
   "source": [
    "# Generate a Random Number"
   ]
  },
  {
   "cell_type": "code",
   "execution_count": 28,
   "id": "78935a0a-d561-4a43-aae6-6d47204081d4",
   "metadata": {},
   "outputs": [],
   "source": [
    "import random\n",
    "\n",
    "def gen_random_number():\n",
    "    random_num = random.randint(0, 100)\n",
    "    return random_num"
   ]
  },
  {
   "cell_type": "code",
   "execution_count": 30,
   "id": "fbf1a7f3-56e4-49d3-96fb-eec84e1e2f27",
   "metadata": {},
   "outputs": [
    {
     "data": {
      "text/plain": [
       "68"
      ]
     },
     "execution_count": 30,
     "metadata": {},
     "output_type": "execute_result"
    }
   ],
   "source": [
    "gen_random_number()"
   ]
  },
  {
   "cell_type": "markdown",
   "id": "d2523162-9ebe-4ab3-abb7-f234eb45ecdd",
   "metadata": {},
   "source": [
    "# Check Prime Numbers in an Interval"
   ]
  },
  {
   "cell_type": "code",
   "execution_count": 35,
   "id": "a2bfda4a-190e-4372-90d8-c7bce06b5fdc",
   "metadata": {},
   "outputs": [],
   "source": [
    "def check_prime_numbers_in_range():\n",
    "    lower_range = int(input(\"Enter a lower range: \"))\n",
    "    upper_range = int(input(\"Enter a upper range: \"))\n",
    "    for num in range(lower_range, upper_range):\n",
    "        if num > 1:\n",
    "            for i in range(2, num):\n",
    "                if num % i == 0:\n",
    "                    break\n",
    "            else:\n",
    "                print(num)\n",
    "            "
   ]
  },
  {
   "cell_type": "code",
   "execution_count": 36,
   "id": "1be40970-1098-478f-a7d3-78fdc2cc909f",
   "metadata": {},
   "outputs": [
    {
     "name": "stdin",
     "output_type": "stream",
     "text": [
      "Enter a lower range:  2\n",
      "Enter a upper range:  11\n"
     ]
    },
    {
     "name": "stdout",
     "output_type": "stream",
     "text": [
      "2\n",
      "3\n",
      "5\n",
      "7\n"
     ]
    }
   ],
   "source": [
    "check_prime_numbers_in_range()"
   ]
  },
  {
   "cell_type": "markdown",
   "id": "fd701ac2-bdee-4f0c-991d-0360447e7224",
   "metadata": {},
   "source": [
    "# Convert Celsius to Farenheit"
   ]
  },
  {
   "cell_type": "code",
   "execution_count": 40,
   "id": "58229c1d-0d9e-43b2-9773-739ea3ba2918",
   "metadata": {},
   "outputs": [],
   "source": [
    "def celcius_to_farenheit(celcius):\n",
    "    farenheit = celcius * (9/5) + 32\n",
    "    return f\"{celcius} degree celcius is actually {farenheit} farenheit.\""
   ]
  },
  {
   "cell_type": "code",
   "execution_count": 41,
   "id": "49b53b53-d7ea-455f-94fe-06552a1fefd8",
   "metadata": {},
   "outputs": [
    {
     "data": {
      "text/plain": [
       "'23.4 degree celcius is actually 74.12 farenheit.'"
      ]
     },
     "execution_count": 41,
     "metadata": {},
     "output_type": "execute_result"
    }
   ],
   "source": [
    "celcius_to_farenheit(23.4)"
   ]
  },
  {
   "cell_type": "markdown",
   "id": "7168a244-65db-44b2-ae59-5a79f9aac0de",
   "metadata": {},
   "source": [
    "# Factorial of a Number"
   ]
  },
  {
   "cell_type": "code",
   "execution_count": 43,
   "id": "f95e5d63-c4be-4e6c-bce4-43edda5ccf1b",
   "metadata": {},
   "outputs": [],
   "source": [
    "def factorial(num):\n",
    "    if num == 0:\n",
    "        return 1\n",
    "    else:\n",
    "        return num * factorial(num - 1)"
   ]
  },
  {
   "cell_type": "code",
   "execution_count": 44,
   "id": "c15a2ecf-df3e-48d0-9e88-3c89af7ec889",
   "metadata": {},
   "outputs": [
    {
     "data": {
      "text/plain": [
       "120"
      ]
     },
     "execution_count": 44,
     "metadata": {},
     "output_type": "execute_result"
    }
   ],
   "source": [
    "factorial(5)"
   ]
  },
  {
   "cell_type": "code",
   "execution_count": 45,
   "id": "687085dd-a2e9-4165-bba3-767755354f16",
   "metadata": {},
   "outputs": [
    {
     "data": {
      "text/plain": [
       "24"
      ]
     },
     "execution_count": 45,
     "metadata": {},
     "output_type": "execute_result"
    }
   ],
   "source": [
    "factorial(4)"
   ]
  },
  {
   "cell_type": "code",
   "execution_count": null,
   "id": "832cbd12-6a1e-4b4a-99a7-3a227bf35ad3",
   "metadata": {},
   "outputs": [],
   "source": []
  }
 ],
 "metadata": {
  "kernelspec": {
   "display_name": "Python 3 (ipykernel)",
   "language": "python",
   "name": "python3"
  },
  "language_info": {
   "codemirror_mode": {
    "name": "ipython",
    "version": 3
   },
   "file_extension": ".py",
   "mimetype": "text/x-python",
   "name": "python",
   "nbconvert_exporter": "python",
   "pygments_lexer": "ipython3",
   "version": "3.11.0"
  },
  "widgets": {
   "application/vnd.jupyter.widget-state+json": {
    "state": {},
    "version_major": 2,
    "version_minor": 0
   }
  }
 },
 "nbformat": 4,
 "nbformat_minor": 5
}
